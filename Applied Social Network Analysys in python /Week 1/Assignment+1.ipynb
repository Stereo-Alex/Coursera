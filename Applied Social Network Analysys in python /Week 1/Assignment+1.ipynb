{
 "cells": [
  {
   "cell_type": "markdown",
   "metadata": {},
   "source": [
    "---\n",
    "\n",
    "_You are currently looking at **version 1.1** of this notebook. To download notebooks and datafiles, as well as get help on Jupyter notebooks in the Coursera platform, visit the [Jupyter Notebook FAQ](https://www.coursera.org/learn/python-social-network-analysis/resources/yPcBs) course resource._\n",
    "\n",
    "---"
   ]
  },
  {
   "cell_type": "markdown",
   "metadata": {},
   "source": [
    "# Assignment 1 - Creating and Manipulating Graphs\n",
    "\n",
    "Eight employees at a small company were asked to choose 3 movies that they would most enjoy watching for the upcoming company movie night. These choices are stored in the file `Employee_Movie_Choices.txt`.\n",
    "\n",
    "A second file, `Employee_Relationships.txt`, has data on the relationships between different coworkers. \n",
    "\n",
    "The relationship score has value of `-100` (Enemies) to `+100` (Best Friends). A value of zero means the two employees haven't interacted or are indifferent.\n",
    "\n",
    "Both files are tab delimited."
   ]
  },
  {
   "cell_type": "code",
   "execution_count": 1,
   "metadata": {
    "collapsed": true
   },
   "outputs": [],
   "source": [
    "import networkx as nx\n",
    "import pandas as pd\n",
    "import numpy as np\n",
    "from networkx.algorithms import bipartite\n",
    "\n",
    "\n",
    "# This is the set of employees\n",
    "employees = set(['Pablo',\n",
    "                 'Lee',\n",
    "                 'Georgia',\n",
    "                 'Vincent',\n",
    "                 'Andy',\n",
    "                 'Frida',\n",
    "                 'Joan',\n",
    "                 'Claude'])\n",
    "\n",
    "# This is the set of movies\n",
    "movies = set(['The Shawshank Redemption',\n",
    "              'Forrest Gump',\n",
    "              'The Matrix',\n",
    "              'Anaconda',\n",
    "              'The Social Network',\n",
    "              'The Godfather',\n",
    "              'Monty Python and the Holy Grail',\n",
    "              'Snakes on a Plane',\n",
    "              'Kung Fu Panda',\n",
    "              'The Dark Knight',\n",
    "              'Mean Girls'])\n",
    "\n",
    "\n",
    "# you can use the following function to plot graphs\n",
    "# make sure to comment it out before submitting to the autograder\n",
    "def plot_graph(G, weight_name=None):\n",
    "    '''\n",
    "    G: a networkx G\n",
    "    weight_name: name of the attribute for plotting edge weights (if G is weighted)\n",
    "    '''\n",
    "    %matplotlib notebook\n",
    "    import matplotlib.pyplot as plt\n",
    "    \n",
    "    plt.figure()\n",
    "    pos = nx.spring_layout(G)\n",
    "    edges = G.edges()\n",
    "    weights = None\n",
    "    \n",
    "    if weight_name:\n",
    "        weights = [int(G[u][v][weight_name]) for u,v in edges]\n",
    "        labels = nx.get_edge_attributes(G,weight_name)\n",
    "        nx.draw_networkx_edge_labels(G,pos,edge_labels=labels)\n",
    "        nx.draw_networkx(G, pos, edges=edges, width=weights);\n",
    "    else:\n",
    "        nx.draw_networkx(G, pos, edges=edges);"
   ]
  },
  {
   "cell_type": "markdown",
   "metadata": {},
   "source": [
    "### Question 1\n",
    "\n",
    "Using NetworkX, load in the bipartite graph from `Employee_Movie_Choices.txt` and return that graph.\n",
    "\n",
    "*This function should return a networkx graph with 19 nodes and 24 edges*"
   ]
  },
  {
   "cell_type": "code",
   "execution_count": 6,
   "metadata": {},
   "outputs": [],
   "source": [
    "def answer_one():\n",
    "        \n",
    "    df = pd.read_csv(\"Employee_Movie_Choices.txt\", sep=\"\\t\", header=None, skiprows = 1, \n",
    "                    names = [\"Employees\", \"Movies\"])\n",
    "    df_network = nx.from_pandas_dataframe(df, \"Employees\", \"Movies\")\n",
    "    #graph = plot_graph(df_network)\n",
    "    return df_network\n",
    "#answer_one()"
   ]
  },
  {
   "cell_type": "markdown",
   "metadata": {},
   "source": [
    "### Question 2\n",
    "\n",
    "Using the graph from the previous question, add nodes attributes named `'type'` where movies have the value `'movie'` and employees have the value `'employee'` and return that graph.\n",
    "\n",
    "*This function should return a networkx graph with node attributes `{'type': 'movie'}` or `{'type': 'employee'}`*"
   ]
  },
  {
   "cell_type": "code",
   "execution_count": 10,
   "metadata": {},
   "outputs": [],
   "source": [
    "def answer_two():\n",
    "    \n",
    "    df = pd.read_csv(\"Employee_Movie_Choices.txt\", sep=\"\\t\", header=None, skiprows = 1, \n",
    "                    names = [\"Employees\", \"Movies\"])\n",
    "    df_network = nx.from_pandas_dataframe(df, \"Employees\", \"Movies\")\n",
    "    df_network.add_nodes_from(employees, bipartite=0, type = \"employee\")\n",
    "    df_network.add_nodes_from(movies, bipartite=1, type = \"movie\")\n",
    "    #graph = plot_graph(df_network)\n",
    "    \n",
    "    return df_network\n",
    "\n",
    "#answer_two()"
   ]
  },
  {
   "cell_type": "markdown",
   "metadata": {
    "collapsed": true
   },
   "source": [
    "### Question 3\n",
    "\n",
    "Find a weighted projection of the graph from `answer_two` which tells us how many movies different pairs of employees have in common.\n",
    "\n",
    "*This function should return a weighted projected graph.*"
   ]
  },
  {
   "cell_type": "code",
   "execution_count": 14,
   "metadata": {},
   "outputs": [],
   "source": [
    "def answer_three():\n",
    "    \n",
    "    df = pd.read_csv(\"Employee_Movie_Choices.txt\", sep=\"\\t\", header=None, skiprows = 1, \n",
    "                    names = [\"Employees\", \"Movies\"])\n",
    "    df_network = nx.from_pandas_dataframe(df, \"Employees\", \"Movies\")\n",
    "    df_network.add_nodes_from(employees, bipartite=0, type = \"employee\")\n",
    "    df_network.add_nodes_from(movies, bipartite=1, type = \"movie\")\n",
    "    \n",
    "    weighted_network = bipartite.weighted_projected_graph(df_network, employees)\n",
    "    #graph = plot_graph(weighted_network)\n",
    "\n",
    "    return weighted_network\n",
    "\n",
    "#answer_three()"
   ]
  },
  {
   "cell_type": "markdown",
   "metadata": {
    "collapsed": true
   },
   "source": [
    "### Question 4\n",
    "\n",
    "Suppose you'd like to find out if people that have a high relationship score also like the same types of movies.\n",
    "\n",
    "Find the Pearson correlation ( using `DataFrame.corr()` ) between employee relationship scores and the number of movies they have in common. If two employees have no movies in common it should be treated as a 0, not a missing value, and should be included in the correlation calculation.\n",
    "\n",
    "*This function should return a float.*"
   ]
  },
  {
   "cell_type": "code",
   "execution_count": 66,
   "metadata": {},
   "outputs": [],
   "source": [
    "def answer_four():\n",
    "        \n",
    "    df = pd.read_csv(\"Employee_Movie_Choices.txt\", sep=\"\\t\", header=None, skiprows = 1, \n",
    "                    names = [\"Employees\", \"Movies\"])\n",
    "    \n",
    "    df_relationships = pd.read_csv(\"Employee_Relationships.txt\", sep=\"\\t\", header=None, \n",
    "                    names = [\"Employee_1\",\"Employee_2\", \"Movies_weight\"])\n",
    "    \n",
    "    df_network = nx.from_pandas_dataframe(df, \"Employees\", \"Movies\")\n",
    "    df_network.add_nodes_from(employees, bipartite=0, type = \"employee\")\n",
    "    df_network.add_nodes_from(movies, bipartite=1, type = \"movie\")\n",
    "    \n",
    "    weighted_network = bipartite.weighted_projected_graph(df_network, employees)\n",
    "    \n",
    "    correlation_network = pd.DataFrame(weighted_network.edges(data=True), columns = [\"Employee_1\",\n",
    "                                                                                    \"Employee_2\",\n",
    "                                                                                    \"Comon_movies\"])\n",
    "    \n",
    "    correlation_network.Comon_movies = correlation_network.Comon_movies.map(lambda x: x[\"weight\"]) \n",
    "    \n",
    "    \n",
    "    correlation_network_to_merge= correlation_network.rename(columns={'Employee_1': 'Employee_2', 'Employee_2': 'Employee_1'})\n",
    "    \n",
    "    correlation_concat = pd.concat([correlation_network, correlation_network_to_merge], ignore_index = True)\n",
    "    \n",
    "    df_rel = pd.merge(df_relationships, correlation_concat, how=\"left\")\n",
    "    df_rel = df_rel.fillna(0)\n",
    "    \n",
    "    correlation = df_rel[\"Comon_movies\"].corr(df_rel[\"Movies_weight\"])\n",
    "    return correlation"
   ]
  },
  {
   "cell_type": "code",
   "execution_count": 67,
   "metadata": {},
   "outputs": [
    {
     "data": {
      "text/plain": [
       "0.78839622217334737"
      ]
     },
     "execution_count": 67,
     "metadata": {},
     "output_type": "execute_result"
    }
   ],
   "source": [
    "answer_four()"
   ]
  },
  {
   "cell_type": "code",
   "execution_count": null,
   "metadata": {},
   "outputs": [],
   "source": []
  },
  {
   "cell_type": "code",
   "execution_count": null,
   "metadata": {
    "collapsed": true
   },
   "outputs": [],
   "source": []
  }
 ],
 "metadata": {
  "coursera": {
   "course_slug": "python-social-network-analysis",
   "graded_item_id": "YNa9b",
   "launcher_item_id": "hvNc1",
   "part_id": "VbyiB"
  },
  "kernelspec": {
   "display_name": "Python 3",
   "language": "python",
   "name": "python3"
  },
  "language_info": {
   "codemirror_mode": {
    "name": "ipython",
    "version": 3
   },
   "file_extension": ".py",
   "mimetype": "text/x-python",
   "name": "python",
   "nbconvert_exporter": "python",
   "pygments_lexer": "ipython3",
   "version": "3.6.2"
  }
 },
 "nbformat": 4,
 "nbformat_minor": 2
}
