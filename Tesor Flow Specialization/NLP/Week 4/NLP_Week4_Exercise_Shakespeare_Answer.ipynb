{
  "nbformat": 4,
  "nbformat_minor": 0,
  "metadata": {
    "accelerator": "GPU",
    "colab": {
      "name": "NLP_Week4_Exercise_Shakespeare_Answer.ipynb",
      "provenance": [],
      "toc_visible": true
    },
    "kernelspec": {
      "display_name": "Python 3",
      "name": "python3"
    }
  },
  "cells": [
    {
      "cell_type": "code",
      "metadata": {
        "id": "zX4Kg8DUTKWO"
      },
      "source": [
        "#@title Licensed under the Apache License, Version 2.0 (the \"License\");\n",
        "# you may not use this file except in compliance with the License.\n",
        "# You may obtain a copy of the License at\n",
        "#\n",
        "# https://www.apache.org/licenses/LICENSE-2.0\n",
        "#\n",
        "# Unless required by applicable law or agreed to in writing, software\n",
        "# distributed under the License is distributed on an \"AS IS\" BASIS,\n",
        "# WITHOUT WARRANTIES OR CONDITIONS OF ANY KIND, either express or implied.\n",
        "# See the License for the specific language governing permissions and\n",
        "# limitations under the License."
      ],
      "execution_count": 1,
      "outputs": []
    },
    {
      "cell_type": "code",
      "metadata": {
        "id": "BOwsuGQQY9OL"
      },
      "source": [
        "from tensorflow.keras.preprocessing.sequence import pad_sequences\n",
        "from tensorflow.keras.layers import Embedding, LSTM, Dense, Dropout, Bidirectional\n",
        "from tensorflow.keras.preprocessing.text import Tokenizer\n",
        "from tensorflow.keras.models import Sequential\n",
        "from tensorflow.keras.optimizers import Adam\n",
        "from tensorflow.keras import regularizers\n",
        "import tensorflow.keras.utils as ku \n",
        "import numpy as np "
      ],
      "execution_count": 2,
      "outputs": []
    },
    {
      "cell_type": "code",
      "metadata": {
        "colab": {
          "base_uri": "https://localhost:8080/"
        },
        "id": "PRnDnCW-Z7qv",
        "outputId": "214ea635-1b0c-4764-8a81-19ae5eb586db"
      },
      "source": [
        "tokenizer = Tokenizer()\n",
        "!wget --no-check-certificate \\\n",
        "    https://storage.googleapis.com/laurencemoroney-blog.appspot.com/sonnets.txt \\\n",
        "    -O /tmp/sonnets.txt\n",
        "data = open('/tmp/sonnets.txt').read()\n",
        "\n",
        "corpus = data.lower().split(\"\\n\")\n",
        "\n",
        "\n",
        "tokenizer.fit_on_texts(corpus)\n",
        "total_words = len(tokenizer.word_index) + 1\n",
        "\n",
        "# create input sequences using list of tokens\n",
        "input_sequences = []\n",
        "for line in corpus:\n",
        "\ttoken_list = tokenizer.texts_to_sequences([line])[0]\n",
        "\tfor i in range(1, len(token_list)):\n",
        "\t\tn_gram_sequence = token_list[:i+1]\n",
        "\t\tinput_sequences.append(n_gram_sequence)\n",
        "\n",
        "\n",
        "# pad sequences \n",
        "max_sequence_len = max([len(x) for x in input_sequences])\n",
        "input_sequences = np.array(pad_sequences(input_sequences, maxlen=max_sequence_len, padding='pre'))\n",
        "\n",
        "# create predictors and label\n",
        "predictors, label = input_sequences[:,:-1],input_sequences[:,-1]\n",
        "\n",
        "label = ku.to_categorical(label, num_classes=total_words)"
      ],
      "execution_count": 3,
      "outputs": [
        {
          "output_type": "stream",
          "text": [
            "--2021-05-01 07:43:17--  https://storage.googleapis.com/laurencemoroney-blog.appspot.com/sonnets.txt\n",
            "Resolving storage.googleapis.com (storage.googleapis.com)... 74.125.20.128, 74.125.142.128, 74.125.195.128, ...\n",
            "Connecting to storage.googleapis.com (storage.googleapis.com)|74.125.20.128|:443... connected.\n",
            "HTTP request sent, awaiting response... 200 OK\n",
            "Length: 93578 (91K) [text/plain]\n",
            "Saving to: ‘/tmp/sonnets.txt’\n",
            "\n",
            "/tmp/sonnets.txt    100%[===================>]  91.38K  --.-KB/s    in 0.001s  \n",
            "\n",
            "2021-05-01 07:43:18 (120 MB/s) - ‘/tmp/sonnets.txt’ saved [93578/93578]\n",
            "\n"
          ],
          "name": "stdout"
        }
      ]
    },
    {
      "cell_type": "code",
      "metadata": {
        "colab": {
          "base_uri": "https://localhost:8080/"
        },
        "id": "w9vH8Y59ajYL",
        "outputId": "871cb786-9e44-448c-d4bf-901ea11f57e7"
      },
      "source": [
        "model = Sequential()\n",
        "model.add(Embedding(total_words, 100, input_length=max_sequence_len-1))\n",
        "model.add(Bidirectional(LSTM(150, return_sequences = True)))\n",
        "model.add(Dropout(0.2))\n",
        "model.add(LSTM(100))\n",
        "model.add(Dense(total_words/2, activation='relu', kernel_regularizer=regularizers.l2(0.01)))\n",
        "model.add(Dense(total_words, activation='softmax'))\n",
        "model.compile(loss='categorical_crossentropy', optimizer='adam', metrics=['accuracy'])\n",
        "print(model.summary())\n"
      ],
      "execution_count": 4,
      "outputs": [
        {
          "output_type": "stream",
          "text": [
            "Model: \"sequential\"\n",
            "_________________________________________________________________\n",
            "Layer (type)                 Output Shape              Param #   \n",
            "=================================================================\n",
            "embedding (Embedding)        (None, 10, 100)           321100    \n",
            "_________________________________________________________________\n",
            "bidirectional (Bidirectional (None, 10, 300)           301200    \n",
            "_________________________________________________________________\n",
            "dropout (Dropout)            (None, 10, 300)           0         \n",
            "_________________________________________________________________\n",
            "lstm_1 (LSTM)                (None, 100)               160400    \n",
            "_________________________________________________________________\n",
            "dense (Dense)                (None, 1605)              162105    \n",
            "_________________________________________________________________\n",
            "dense_1 (Dense)              (None, 3211)              5156866   \n",
            "=================================================================\n",
            "Total params: 6,101,671\n",
            "Trainable params: 6,101,671\n",
            "Non-trainable params: 0\n",
            "_________________________________________________________________\n",
            "None\n"
          ],
          "name": "stdout"
        }
      ]
    },
    {
      "cell_type": "code",
      "metadata": {
        "colab": {
          "base_uri": "https://localhost:8080/"
        },
        "id": "AIg2f1HBxqof",
        "outputId": "93dbdf5c-fdcf-45cd-ad16-24d5fff4eb07"
      },
      "source": [
        " history = model.fit(predictors, label, epochs=100, verbose=1)"
      ],
      "execution_count": 5,
      "outputs": [
        {
          "output_type": "stream",
          "text": [
            "Epoch 1/100\n",
            "484/484 [==============================] - 39s 12ms/step - loss: 7.3349 - accuracy: 0.0204\n",
            "Epoch 2/100\n",
            "484/484 [==============================] - 6s 12ms/step - loss: 6.5072 - accuracy: 0.0207\n",
            "Epoch 3/100\n",
            "484/484 [==============================] - 6s 12ms/step - loss: 6.3849 - accuracy: 0.0264\n",
            "Epoch 4/100\n",
            "484/484 [==============================] - 6s 12ms/step - loss: 6.2497 - accuracy: 0.0287\n",
            "Epoch 5/100\n",
            "484/484 [==============================] - 6s 12ms/step - loss: 6.1618 - accuracy: 0.0310\n",
            "Epoch 6/100\n",
            "484/484 [==============================] - 6s 12ms/step - loss: 6.1001 - accuracy: 0.0337\n",
            "Epoch 7/100\n",
            "484/484 [==============================] - 6s 12ms/step - loss: 6.0665 - accuracy: 0.0380\n",
            "Epoch 8/100\n",
            "484/484 [==============================] - 6s 12ms/step - loss: 5.9570 - accuracy: 0.0441\n",
            "Epoch 9/100\n",
            "484/484 [==============================] - 6s 12ms/step - loss: 5.9183 - accuracy: 0.0437\n",
            "Epoch 10/100\n",
            "484/484 [==============================] - 6s 12ms/step - loss: 5.8043 - accuracy: 0.0533\n",
            "Epoch 11/100\n",
            "484/484 [==============================] - 6s 12ms/step - loss: 5.6910 - accuracy: 0.0561\n",
            "Epoch 12/100\n",
            "484/484 [==============================] - 6s 12ms/step - loss: 5.6127 - accuracy: 0.0594\n",
            "Epoch 13/100\n",
            "484/484 [==============================] - 6s 12ms/step - loss: 5.5177 - accuracy: 0.0661\n",
            "Epoch 14/100\n",
            "484/484 [==============================] - 6s 12ms/step - loss: 5.4389 - accuracy: 0.0728\n",
            "Epoch 15/100\n",
            "484/484 [==============================] - 6s 12ms/step - loss: 5.3483 - accuracy: 0.0813\n",
            "Epoch 16/100\n",
            "484/484 [==============================] - 6s 12ms/step - loss: 5.2097 - accuracy: 0.0846\n",
            "Epoch 17/100\n",
            "484/484 [==============================] - 6s 12ms/step - loss: 5.1465 - accuracy: 0.0900\n",
            "Epoch 18/100\n",
            "484/484 [==============================] - 6s 12ms/step - loss: 5.0563 - accuracy: 0.0949\n",
            "Epoch 19/100\n",
            "484/484 [==============================] - 6s 12ms/step - loss: 4.9654 - accuracy: 0.1011\n",
            "Epoch 20/100\n",
            "484/484 [==============================] - 6s 12ms/step - loss: 4.8891 - accuracy: 0.1051\n",
            "Epoch 21/100\n",
            "484/484 [==============================] - 6s 12ms/step - loss: 4.7839 - accuracy: 0.1144\n",
            "Epoch 22/100\n",
            "484/484 [==============================] - 6s 12ms/step - loss: 4.6968 - accuracy: 0.1175\n",
            "Epoch 23/100\n",
            "484/484 [==============================] - 6s 12ms/step - loss: 4.6072 - accuracy: 0.1317\n",
            "Epoch 24/100\n",
            "484/484 [==============================] - 6s 11ms/step - loss: 4.5107 - accuracy: 0.1335\n",
            "Epoch 25/100\n",
            "484/484 [==============================] - 6s 11ms/step - loss: 4.4012 - accuracy: 0.1458\n",
            "Epoch 26/100\n",
            "484/484 [==============================] - 6s 11ms/step - loss: 4.3206 - accuracy: 0.1498\n",
            "Epoch 27/100\n",
            "484/484 [==============================] - 6s 11ms/step - loss: 4.2208 - accuracy: 0.1681\n",
            "Epoch 28/100\n",
            "484/484 [==============================] - 6s 11ms/step - loss: 4.1325 - accuracy: 0.1747\n",
            "Epoch 29/100\n",
            "484/484 [==============================] - 6s 11ms/step - loss: 4.0319 - accuracy: 0.1926\n",
            "Epoch 30/100\n",
            "484/484 [==============================] - 6s 12ms/step - loss: 3.9556 - accuracy: 0.2028\n",
            "Epoch 31/100\n",
            "484/484 [==============================] - 6s 11ms/step - loss: 3.8643 - accuracy: 0.2217\n",
            "Epoch 32/100\n",
            "484/484 [==============================] - 6s 11ms/step - loss: 3.7694 - accuracy: 0.2368\n",
            "Epoch 33/100\n",
            "484/484 [==============================] - 5s 11ms/step - loss: 3.7030 - accuracy: 0.2541\n",
            "Epoch 34/100\n",
            "484/484 [==============================] - 6s 11ms/step - loss: 3.6140 - accuracy: 0.2790\n",
            "Epoch 35/100\n",
            "484/484 [==============================] - 6s 12ms/step - loss: 3.5417 - accuracy: 0.2866\n",
            "Epoch 36/100\n",
            "484/484 [==============================] - 6s 11ms/step - loss: 3.4686 - accuracy: 0.3040\n",
            "Epoch 37/100\n",
            "484/484 [==============================] - 6s 12ms/step - loss: 3.3996 - accuracy: 0.3213\n",
            "Epoch 38/100\n",
            "484/484 [==============================] - 6s 12ms/step - loss: 3.2990 - accuracy: 0.3415\n",
            "Epoch 39/100\n",
            "484/484 [==============================] - 6s 12ms/step - loss: 3.2356 - accuracy: 0.3586\n",
            "Epoch 40/100\n",
            "484/484 [==============================] - 6s 12ms/step - loss: 3.1736 - accuracy: 0.3662\n",
            "Epoch 41/100\n",
            "484/484 [==============================] - 6s 12ms/step - loss: 3.0932 - accuracy: 0.3947\n",
            "Epoch 42/100\n",
            "484/484 [==============================] - 6s 12ms/step - loss: 3.0262 - accuracy: 0.4053\n",
            "Epoch 43/100\n",
            "484/484 [==============================] - 6s 12ms/step - loss: 2.9392 - accuracy: 0.4212\n",
            "Epoch 44/100\n",
            "484/484 [==============================] - 6s 12ms/step - loss: 2.9100 - accuracy: 0.4229\n",
            "Epoch 45/100\n",
            "484/484 [==============================] - 6s 12ms/step - loss: 2.8447 - accuracy: 0.4418\n",
            "Epoch 46/100\n",
            "484/484 [==============================] - 6s 12ms/step - loss: 2.7865 - accuracy: 0.4499\n",
            "Epoch 47/100\n",
            "484/484 [==============================] - 6s 12ms/step - loss: 2.7116 - accuracy: 0.4768\n",
            "Epoch 48/100\n",
            "484/484 [==============================] - 6s 11ms/step - loss: 2.7029 - accuracy: 0.4742\n",
            "Epoch 49/100\n",
            "484/484 [==============================] - 6s 11ms/step - loss: 2.6320 - accuracy: 0.4872\n",
            "Epoch 50/100\n",
            "484/484 [==============================] - 6s 11ms/step - loss: 2.6143 - accuracy: 0.4921\n",
            "Epoch 51/100\n",
            "484/484 [==============================] - 6s 11ms/step - loss: 2.5573 - accuracy: 0.5034\n",
            "Epoch 52/100\n",
            "484/484 [==============================] - 6s 11ms/step - loss: 2.4887 - accuracy: 0.5185\n",
            "Epoch 53/100\n",
            "484/484 [==============================] - 6s 12ms/step - loss: 2.4680 - accuracy: 0.5271\n",
            "Epoch 54/100\n",
            "484/484 [==============================] - 6s 12ms/step - loss: 2.4021 - accuracy: 0.5411\n",
            "Epoch 55/100\n",
            "484/484 [==============================] - 6s 11ms/step - loss: 2.3492 - accuracy: 0.5557\n",
            "Epoch 56/100\n",
            "484/484 [==============================] - 6s 11ms/step - loss: 2.2803 - accuracy: 0.5762\n",
            "Epoch 57/100\n",
            "484/484 [==============================] - 6s 12ms/step - loss: 2.2503 - accuracy: 0.5716\n",
            "Epoch 58/100\n",
            "484/484 [==============================] - 6s 12ms/step - loss: 2.2263 - accuracy: 0.5832\n",
            "Epoch 59/100\n",
            "484/484 [==============================] - 6s 11ms/step - loss: 2.1983 - accuracy: 0.5881\n",
            "Epoch 60/100\n",
            "484/484 [==============================] - 6s 12ms/step - loss: 2.1607 - accuracy: 0.5947\n",
            "Epoch 61/100\n",
            "484/484 [==============================] - 6s 11ms/step - loss: 2.1235 - accuracy: 0.6099\n",
            "Epoch 62/100\n",
            "484/484 [==============================] - 6s 11ms/step - loss: 2.0672 - accuracy: 0.6167\n",
            "Epoch 63/100\n",
            "484/484 [==============================] - 6s 11ms/step - loss: 2.0574 - accuracy: 0.6205\n",
            "Epoch 64/100\n",
            "484/484 [==============================] - 6s 11ms/step - loss: 2.0221 - accuracy: 0.6298\n",
            "Epoch 65/100\n",
            "484/484 [==============================] - 6s 11ms/step - loss: 1.9872 - accuracy: 0.6380\n",
            "Epoch 66/100\n",
            "484/484 [==============================] - 6s 11ms/step - loss: 1.9447 - accuracy: 0.6451\n",
            "Epoch 67/100\n",
            "484/484 [==============================] - 5s 11ms/step - loss: 1.8851 - accuracy: 0.6572\n",
            "Epoch 68/100\n",
            "484/484 [==============================] - 6s 11ms/step - loss: 1.8802 - accuracy: 0.6607\n",
            "Epoch 69/100\n",
            "484/484 [==============================] - 6s 11ms/step - loss: 1.8806 - accuracy: 0.6570\n",
            "Epoch 70/100\n",
            "484/484 [==============================] - 5s 11ms/step - loss: 1.8255 - accuracy: 0.6729\n",
            "Epoch 71/100\n",
            "484/484 [==============================] - 6s 11ms/step - loss: 1.8029 - accuracy: 0.6740\n",
            "Epoch 72/100\n",
            "484/484 [==============================] - 5s 11ms/step - loss: 1.7914 - accuracy: 0.6743\n",
            "Epoch 73/100\n",
            "484/484 [==============================] - 6s 11ms/step - loss: 1.7451 - accuracy: 0.6919\n",
            "Epoch 74/100\n",
            "484/484 [==============================] - 6s 11ms/step - loss: 1.7601 - accuracy: 0.6852\n",
            "Epoch 75/100\n",
            "484/484 [==============================] - 6s 11ms/step - loss: 1.6972 - accuracy: 0.6954\n",
            "Epoch 76/100\n",
            "484/484 [==============================] - 5s 11ms/step - loss: 1.6970 - accuracy: 0.6923\n",
            "Epoch 77/100\n",
            "484/484 [==============================] - 5s 11ms/step - loss: 1.6288 - accuracy: 0.7132\n",
            "Epoch 78/100\n",
            "484/484 [==============================] - 5s 11ms/step - loss: 1.6144 - accuracy: 0.7135\n",
            "Epoch 79/100\n",
            "484/484 [==============================] - 6s 11ms/step - loss: 1.6318 - accuracy: 0.7095\n",
            "Epoch 80/100\n",
            "484/484 [==============================] - 6s 11ms/step - loss: 1.6157 - accuracy: 0.7109\n",
            "Epoch 81/100\n",
            "484/484 [==============================] - 5s 11ms/step - loss: 1.5396 - accuracy: 0.7277\n",
            "Epoch 82/100\n",
            "484/484 [==============================] - 6s 11ms/step - loss: 1.5417 - accuracy: 0.7272\n",
            "Epoch 83/100\n",
            "484/484 [==============================] - 5s 11ms/step - loss: 1.5495 - accuracy: 0.7213\n",
            "Epoch 84/100\n",
            "484/484 [==============================] - 6s 11ms/step - loss: 1.5331 - accuracy: 0.7290\n",
            "Epoch 85/100\n",
            "484/484 [==============================] - 6s 11ms/step - loss: 1.5233 - accuracy: 0.7309\n",
            "Epoch 86/100\n",
            "484/484 [==============================] - 5s 11ms/step - loss: 1.4577 - accuracy: 0.7496\n",
            "Epoch 87/100\n",
            "484/484 [==============================] - 6s 11ms/step - loss: 1.4937 - accuracy: 0.7402\n",
            "Epoch 88/100\n",
            "484/484 [==============================] - 6s 11ms/step - loss: 1.4650 - accuracy: 0.7452\n",
            "Epoch 89/100\n",
            "484/484 [==============================] - 5s 11ms/step - loss: 1.3967 - accuracy: 0.7586\n",
            "Epoch 90/100\n",
            "484/484 [==============================] - 5s 11ms/step - loss: 1.4016 - accuracy: 0.7548\n",
            "Epoch 91/100\n",
            "484/484 [==============================] - 6s 11ms/step - loss: 1.4145 - accuracy: 0.7541\n",
            "Epoch 92/100\n",
            "484/484 [==============================] - 6s 11ms/step - loss: 1.3919 - accuracy: 0.7540\n",
            "Epoch 93/100\n",
            "484/484 [==============================] - 6s 11ms/step - loss: 1.3848 - accuracy: 0.7554\n",
            "Epoch 94/100\n",
            "484/484 [==============================] - 5s 11ms/step - loss: 1.3494 - accuracy: 0.7681\n",
            "Epoch 95/100\n",
            "484/484 [==============================] - 6s 11ms/step - loss: 1.3482 - accuracy: 0.7653\n",
            "Epoch 96/100\n",
            "484/484 [==============================] - 6s 12ms/step - loss: 1.3411 - accuracy: 0.7658\n",
            "Epoch 97/100\n",
            "484/484 [==============================] - 6s 12ms/step - loss: 1.3075 - accuracy: 0.7714\n",
            "Epoch 98/100\n",
            "484/484 [==============================] - 6s 11ms/step - loss: 1.2963 - accuracy: 0.7739\n",
            "Epoch 99/100\n",
            "484/484 [==============================] - 6s 11ms/step - loss: 1.3098 - accuracy: 0.7714\n",
            "Epoch 100/100\n",
            "484/484 [==============================] - 6s 11ms/step - loss: 1.2920 - accuracy: 0.7763\n"
          ],
          "name": "stdout"
        }
      ]
    },
    {
      "cell_type": "code",
      "metadata": {
        "colab": {
          "base_uri": "https://localhost:8080/",
          "height": 545
        },
        "id": "1fXTEO3GJ282",
        "outputId": "ab553bd6-53b4-4345-f306-8a09724a80d8"
      },
      "source": [
        "import matplotlib.pyplot as plt\n",
        "acc = history.history['accuracy']\n",
        "loss = history.history['loss']\n",
        "\n",
        "epochs = range(len(acc))\n",
        "\n",
        "plt.plot(epochs, acc, 'b', label='Training accuracy')\n",
        "plt.title('Training accuracy')\n",
        "\n",
        "plt.figure()\n",
        "\n",
        "plt.plot(epochs, loss, 'b', label='Training Loss')\n",
        "plt.title('Training loss')\n",
        "plt.legend()\n",
        "\n",
        "plt.show()"
      ],
      "execution_count": 6,
      "outputs": [
        {
          "output_type": "display_data",
          "data": {
            "image/png": "[encoded data removed]",
            "text/plain": [
              "<Figure size 432x288 with 1 Axes>"
            ]
          },
          "metadata": {
            "tags": [],
            "needs_background": "light"
          }
        },
        {
          "output_type": "display_data",
          "data": {
            "image/png": "[encoded data removed]",
            "text/plain": [
              "<Figure size 432x288 with 1 Axes>"
            ]
          },
          "metadata": {
            "tags": [],
            "needs_background": "light"
          }
        }
      ]
    },
    {
      "cell_type": "code",
      "metadata": {
        "colab": {
          "base_uri": "https://localhost:8080/"
        },
        "id": "6Vc6PHgxa6Hm",
        "outputId": "8ee0aec8-72fb-4f89-89ef-fbb946d334fd"
      },
      "source": [
        "seed_text = \"Alex is\"\n",
        "next_words = 25\n",
        "  \n",
        "for _ in range(next_words):\n",
        "\ttoken_list = tokenizer.texts_to_sequences([seed_text])[0]\n",
        "\ttoken_list = pad_sequences([token_list], maxlen=max_sequence_len-1, padding='pre')\n",
        "\tpredicted = model.predict_classes(token_list, verbose=0)\n",
        "\toutput_word = \"\"\n",
        "\tfor word, index in tokenizer.word_index.items():\n",
        "\t\tif index == predicted:\n",
        "\t\t\toutput_word = word\n",
        "\t\t\tbreak\n",
        "\tseed_text += \" \" + output_word\n",
        "print(seed_text)"
      ],
      "execution_count": 8,
      "outputs": [
        {
          "output_type": "stream",
          "text": [
            "/usr/local/lib/python3.7/dist-packages/tensorflow/python/keras/engine/sequential.py:450: UserWarning: `model.predict_classes()` is deprecated and will be removed after 2021-01-01. Please use instead:* `np.argmax(model.predict(x), axis=-1)`,   if your model does multi-class classification   (e.g. if it uses a `softmax` last-layer activation).* `(model.predict(x) > 0.5).astype(\"int32\")`,   if your model does binary classification   (e.g. if it uses a `sigmoid` last-layer activation).\n",
            "  warnings.warn('`model.predict_classes()` is deprecated and '\n"
          ],
          "name": "stderr"
        },
        {
          "output_type": "stream",
          "text": [
            "Alex is poorly imitated after you i chide thee told mine ' half of brow brow words shown brought of store the glory part state new fired\n"
          ],
          "name": "stdout"
        }
      ]
    },
    {
      "cell_type": "code",
      "metadata": {
        "id": "PpFuDG2460Bq"
      },
      "source": [
        ""
      ],
      "execution_count": null,
      "outputs": []
    }
  ]
}